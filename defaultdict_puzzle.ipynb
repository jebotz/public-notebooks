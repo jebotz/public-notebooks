{
 "cells": [
  {
   "cell_type": "markdown",
   "metadata": {},
   "source": [
    "# A Python puzzle: Ways of using a sequence of values with defaultdict\n",
    "\n",
    "This page came out of a simple little coding puzzle Aaron Maxwell, author of [_Powerful Python_](https://powerfulpython.com/) had sent to his mailing list: how to use default of 1 with a Python defaultdict.  My answer to this was `defaultdict(lambda: 1)`, and then I thought of making this a bit harder and coming up with a way to make the default value non-constant, for example a sequence.  This turned into an interesting exploration of callables and persisting state between calls (without using global variables, of course) in the Python language."
   ]
  },
  {
   "cell_type": "markdown",
   "metadata": {},
   "source": [
    "## Dicts and defaultdict\n",
    "\n",
    "The Python `dict` type (_associative array_ or _hash_ in some other languages) has the semantics that if you try to look up a key that doesn't exist it raises a _KeyError_ exception.  This is fine for many use cases, but it makes some other uses cases unnecessarily complicated.   An example is using a dict to count the number of occurences of individual words in some source text; the following would be a concise and simple solution, but doesn't work..."
   ]
  },
  {
   "cell_type": "code",
   "execution_count": 18,
   "metadata": {},
   "outputs": [
    {
     "ename": "KeyError",
     "evalue": "'ma'",
     "output_type": "error",
     "traceback": [
      "\u001b[0;31m---------------------------------------------------------------------------\u001b[0m",
      "\u001b[0;31mKeyError\u001b[0m                                  Traceback (most recent call last)",
      "\u001b[0;32m<ipython-input-18-5b587499a19e>\u001b[0m in \u001b[0;36m<module>\u001b[0;34m()\u001b[0m\n\u001b[1;32m      2\u001b[0m \u001b[0md\u001b[0m \u001b[0;34m=\u001b[0m \u001b[0mdict\u001b[0m\u001b[0;34m(\u001b[0m\u001b[0;34m)\u001b[0m\u001b[0;34m\u001b[0m\u001b[0m\n\u001b[1;32m      3\u001b[0m \u001b[0;32mfor\u001b[0m \u001b[0mword\u001b[0m \u001b[0;32min\u001b[0m \u001b[0msource_text\u001b[0m\u001b[0;34m.\u001b[0m\u001b[0msplit\u001b[0m\u001b[0;34m(\u001b[0m\u001b[0;34m)\u001b[0m\u001b[0;34m:\u001b[0m\u001b[0;34m\u001b[0m\u001b[0m\n\u001b[0;32m----> 4\u001b[0;31m     \u001b[0md\u001b[0m\u001b[0;34m[\u001b[0m\u001b[0mword\u001b[0m\u001b[0;34m]\u001b[0m \u001b[0;34m+=\u001b[0m \u001b[0;36m1\u001b[0m\u001b[0;34m\u001b[0m\u001b[0m\n\u001b[0m",
      "\u001b[0;31mKeyError\u001b[0m: 'ma'"
     ]
    }
   ],
   "source": [
    "source_text = \"ma ma hu hu\"\n",
    "d = dict()\n",
    "for word in source_text.split():\n",
    "    d[word] += 1"
   ]
  },
  {
   "cell_type": "markdown",
   "metadata": {},
   "source": [
    "To make this work we'd have to test if the word is already in `d`, and if it isn't intialize its associated value to 0.\n",
    "Fortunately there is a type in the standard library that does exactly this automatically... the [`collections.defaultdict`](https://docs.python.org/3/library/collections.html#collections.defaultdict) class from Python's standard library is a `dict` which on looking up a non-existing key calls a user-provided _initializer_ _callable_ (which the manual entry calls a \"default factory\") instead of raising an exception..."
   ]
  },
  {
   "cell_type": "code",
   "execution_count": 14,
   "metadata": {},
   "outputs": [
    {
     "name": "stdout",
     "output_type": "stream",
     "text": [
      "ma occurred 2 times\n",
      "hu occurred 2 times\n"
     ]
    }
   ],
   "source": [
    "from collections import defaultdict\n",
    "\n",
    "source = \"ma ma hu hu\"\n",
    "dd = defaultdict(int)\n",
    "for word in source.split():\n",
    "    dd[word] += 1\n",
    "for (key, count) in dd.items():\n",
    "    print(f'{key} occurred {count} times')\n"
   ]
  },
  {
   "cell_type": "markdown",
   "metadata": {},
   "source": [
    "Here we're using `int` as the default factory because calling `int()` without arguments returns zero... we might also have used `defaultdict(lambda: 0)`; the default factory has to be a callable object, i.e. a function, method, type constructor or anything else that provides a `__call__` method."
   ]
  },
  {
   "cell_type": "markdown",
   "metadata": {},
   "source": [
    "## The Puzzle\n",
    "\n",
    "Now back to our puzzle.  What can we pass to defaultdict as a default factory so that our default values will be serialized rather than constant, i.e. 1 for the first key failed lookup, 2 for the seoncd, etc.  We'll do this without using global variables.  We don't care if the sequence continues counting across defaultdicts or gets restarted with each defaultdict instantiation.\n",
    "\n",
    "So far we'e discovered 5 distinct solutions to this in Python.  If you find any others, by all means send them to me.\n",
    "\n",
    "Scroll down to see our solutions...\n",
    "\n",
    "```\n",
    "  .\n",
    "  .\n",
    "  .\n",
    "  .\n",
    "  .\n",
    "  .\n",
    "  .\n",
    "  .\n",
    "  .\n",
    "  .\n",
    "  .\n",
    "  .\n",
    "  .\n",
    "  .\n",
    "  .\n",
    "  .\n",
    "  .\n",
    "  .\n",
    "  .\n",
    "  .\n",
    "  .\n",
    "  .\n",
    "  .\n",
    "  .\n",
    "  .\n",
    "  .\n",
    "  .\n",
    "  .\n",
    "  .\n",
    "  .\n",
    "  .\n",
    "  .\n",
    "  .\n",
    "  .\n",
    "  .\n",
    "  .\n",
    "  .\n",
    "  .\n",
    "  .\n",
    "  .\n",
    "  .\n",
    "  .\n",
    "  .\n",
    "  .\n",
    "  .\n",
    "  .\n",
    "  .\n",
    "  .\n",
    "  .\n",
    "  .\n",
    "  .\n",
    "  .\n",
    "  .\n",
    "  .\n",
    "  .\n",
    "  .\n",
    "  .\n",
    "  .\n",
    "  .\n",
    "  .\n",
    "  .\n",
    "  .\n",
    "  .\n",
    "  .\n",
    "  .\n",
    "  .\n",
    "  .\n",
    "  .\n",
    "  .\n",
    "  .\n",
    "  .\n",
    "  ```"
   ]
  },
  {
   "cell_type": "markdown",
   "metadata": {},
   "source": [
    "## 1) Using a counter object\n",
    "\n",
    "The argument we need to pass to defaultdict has to be a callable, and we need to keep state between calls (tracking the count), so that suggests an object (state) and a method (callable).  A simple counter object would seem to be the most obvious (and probably most \"Pythonic\") solution.  The object might define a `nextcount()` method, but since it does nothing else we might was well just put the counting code on the `__call__` [dunder](https://wiki.python.org/moin/DunderAlias) method, making the object itself callable."
   ]
  },
  {
   "cell_type": "code",
   "execution_count": 19,
   "metadata": {},
   "outputs": [
    {
     "name": "stdout",
     "output_type": "stream",
     "text": [
      "1 2 1 3\n"
     ]
    }
   ],
   "source": [
    "class CounterObj:\n",
    "    def __init__(self):\n",
    "        self.count = 0\n",
    "    def __call__(self):\n",
    "        self.count += 1\n",
    "        return self.count\n",
    "\n",
    "d = defaultdict(CounterObj())\n",
    "print(d['a'], d['b'], d['a'], d['z'])"
   ]
  },
  {
   "cell_type": "markdown",
   "metadata": {},
   "source": [
    "## 2) Subclassing 'int' to instantiate a serialized default integer\n",
    "\n",
    "This was actually the first solution I envisioned when I started thinking about this problem... The manual entry for defaultdict gives the example of `defaultdict(int)` for default elements of 0. This works because 0 is the default `int` when you call the int class (int type constructor) without arguments.  So we should be able to create a subclass of `int` that makes a serialized default instance instead.  This turns out to be pretty easy, using and extending the `__new__` dunder method and keeping the count in a class attribute.  A `SerialInt` is a normal integer except that its default is a serial number rathern than 0."
   ]
  },
  {
   "cell_type": "code",
   "execution_count": 6,
   "metadata": {},
   "outputs": [
    {
     "name": "stdout",
     "output_type": "stream",
     "text": [
      "1 2 1 3\n"
     ]
    }
   ],
   "source": [
    "class SerialInt(int):\n",
    "    count = 0\n",
    "    def __new__(self, x=None, **kwargs):\n",
    "        self.count += 1\n",
    "        return(int.__new__(self, self.count if x is None else x, **kwargs))\n",
    "\n",
    "d = defaultdict(SerialInt)\n",
    "print(d['a'], d['b'], d['a'], d['z'])"
   ]
  },
  {
   "cell_type": "markdown",
   "metadata": {},
   "source": [
    "## 3) Using an iterator or generator\n",
    "\n",
    "Although considered the \"Pythonic\" way of producing a sequence, iterators or generators aren't a great match for this problem because they aren't in themselves callable.  But we can \"cheat\" and pass the `__next__` dunder method of the generator as the default factory!  (This is cheating because dunder methods are normally not supposed to be called or passed directly.)"
   ]
  },
  {
   "cell_type": "code",
   "execution_count": 23,
   "metadata": {},
   "outputs": [
    {
     "name": "stdout",
     "output_type": "stream",
     "text": [
      "1 2 1 3\n"
     ]
    }
   ],
   "source": [
    "def seq_generator_func():\n",
    "    count = 1\n",
    "    while True:\n",
    "        yield count\n",
    "        count += 1\n",
    "\n",
    "d = defaultdict(seq_generator_func().__next__)\n",
    "print(d['a'], d['b'], d['a'], d['z'])"
   ]
  },
  {
   "cell_type": "markdown",
   "metadata": {},
   "source": [
    "What's more, there is a counter generator already in the standard library, so we don't even have to code it; the following would seem to be the shortest possible solution to our puzzle:"
   ]
  },
  {
   "cell_type": "code",
   "execution_count": 21,
   "metadata": {},
   "outputs": [
    {
     "name": "stdout",
     "output_type": "stream",
     "text": [
      "1 2 1 3\n"
     ]
    }
   ],
   "source": [
    "from itertools import count\n",
    "\n",
    "d = defaultdict(count(1).__next__)\n",
    "print(d['a'], d['b'], d['a'], d['z'])"
   ]
  },
  {
   "cell_type": "markdown",
   "metadata": {},
   "source": [
    "## 4) Using a mutable default argument to maintain state\n",
    "\n",
    "I had started on this notebook and put it down for a while when I came across this [page about Python gotchas](https://docs.python-guide.org/writing/gotchas) and learned about what they call the mutable default arguments gotcha.  This is a consequence of the fact that in Python arguments are always passed by reference combined with the fact that Python evaluates default arguments at function definition time.  This means that if a default argument is mutable, for example a list, as in `f(l=[])`, then any changes made to it will persist between calls (rather than, in this case, `l` being re-initialized to an empty list on each call, which is what the programmer might have intended).  This is absolutely correct behavior, but can be surprising.\n",
    "\n",
    "I immediately thought of my puzzle... here is another way of keeping state between calls of a callable!  Turns out it is also the most compact of our solutions to the puzzle! (outside of using an iterator from the standard library)"
   ]
  },
  {
   "cell_type": "code",
   "execution_count": 22,
   "metadata": {},
   "outputs": [
    {
     "name": "stdout",
     "output_type": "stream",
     "text": [
      "1 2 1 3\n"
     ]
    }
   ],
   "source": [
    "def counter(count=[0]):\n",
    "    count[0] += 1\n",
    "    return count[0]\n",
    "\n",
    "d = defaultdict(counter)\n",
    "print(d['a'], d['b'], d['a'], d['z'])"
   ]
  },
  {
   "cell_type": "markdown",
   "metadata": {},
   "source": [
    "## 5) Using a lexical closure\n",
    "\n",
    "Lexical closures are a way for a function object to maintain state between invocations that's heavily used in Lisp, not so much in Python where objects are usually preferred.  But at least in Python 3 it is possible, although there are some gotchas... specifically, we need to use a [`nonlocal`](https://docs.python.org/3/reference/simple_stmts.html#grammar-token-nonlocal-stmt) declaration for the count variable.  Also, in Lisp the inner function would usually be a lambda since it really doesn't need a name, but in Python lambdas are deliberately too limited to have side effects (like updating `count`).  I spent some time researching the reasons for this limitation, and without going into the details, what it comes down to is that Python should be Python and not try to be Lisp.  It does makes sense, but it's good to know that we do have the power of lexical closures available and functions are still first class objects even if they do have to have a name."
   ]
  },
  {
   "cell_type": "code",
   "execution_count": 3,
   "metadata": {
    "scrolled": true
   },
   "outputs": [
    {
     "name": "stdout",
     "output_type": "stream",
     "text": [
      "1 2 1 3\n"
     ]
    }
   ],
   "source": [
    "def make_counter():\n",
    "    count = 0\n",
    "    def counter():\n",
    "        nonlocal count\n",
    "        count += 1\n",
    "        return count\n",
    "    return counter\n",
    "\n",
    "d = defaultdict(make_counter())\n",
    "print(d['a'], d['b'], d['a'], d['z'])"
   ]
  }
 ],
 "metadata": {
  "kernelspec": {
   "display_name": "Python 3",
   "language": "python",
   "name": "python3"
  },
  "language_info": {
   "codemirror_mode": {
    "name": "ipython",
    "version": 3
   },
   "file_extension": ".py",
   "mimetype": "text/x-python",
   "name": "python",
   "nbconvert_exporter": "python",
   "pygments_lexer": "ipython3",
   "version": "3.6.6"
  }
 },
 "nbformat": 4,
 "nbformat_minor": 2
}
