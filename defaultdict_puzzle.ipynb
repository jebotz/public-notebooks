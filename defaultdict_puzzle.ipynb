{
 "cells": [
  {
   "cell_type": "markdown",
   "metadata": {},
   "source": [
    "# A Python puzzle: Using a series of increasing default values for defaultdict\n",
    "\n",
    "This page came out of a simple little coding puzzle Aaron Maxwell, author of [_Powerful Python_](https://powerfulpython.com/) had sent to his mailing list: how to use default of 1 with a Python defaultdict.  I answered this with `defaultdict(lambda: 1)`, and then I thought of making this a bit harder and coming up with a way to make the default value non-constant, for example a sequence.  This turned into an interesting exploration of callables and persisting state between calls (without using global variables, of course) in the Python language."
   ]
  },
  {
   "cell_type": "markdown",
   "metadata": {},
   "source": [
    "## Background: dict and defaultdict\n",
    "\n",
    "The Python `dict` type (_associative array_ or _hash_ in some other languages) has the semantics that if you try to look up a key that doesn't exist it raises a _KeyError_ exception.  This is fine for many use cases, but it makes some other uses cases unnecessarily complicated.   An example is using a dict to count the number of occurences of individual words in some source text; the following would be a concise and simple solution, but doesn't work..."
   ]
  },
  {
   "cell_type": "code",
   "execution_count": 1,
   "metadata": {},
   "outputs": [],
   "source": [
    "source_text = \"spam eggs spam and spam\"\n",
    "\n",
    "d = dict()\n",
    "for word in source_text.split():\n",
    "    # d[word] += 1   # on first word this would raise KeyError.\n",
    "    pass"
   ]
  },
  {
   "cell_type": "markdown",
   "metadata": {},
   "source": [
    "To make this work we could test if the word is already in `d`, and if it isn't intialize its associated value to 0.\n",
    "But there is a type in the Python standard library that does exactly this automatically... the [`collections.defaultdict`](https://docs.python.org/3/library/collections.html#collections.defaultdict) class is a `dict` which on looking up a non-existing key calls a user-provided _initializer_ _callable_ (which the manual entry calls a \"default factory\") instead of raising an exception..."
   ]
  },
  {
   "cell_type": "code",
   "execution_count": 2,
   "metadata": {},
   "outputs": [
    {
     "name": "stdout",
     "output_type": "stream",
     "text": [
      "spam occurred 3 times\n",
      "eggs occurred 1 times\n",
      "and occurred 1 times\n"
     ]
    }
   ],
   "source": [
    "from collections import defaultdict\n",
    "\n",
    "dd = defaultdict(int)\n",
    "for word in source_text.split():\n",
    "    dd[word] += 1\n",
    "for (key, count) in dd.items():\n",
    "    print(f'{key} occurred {count} times')\n"
   ]
  },
  {
   "cell_type": "markdown",
   "metadata": {},
   "source": [
    "Here we're using `int` as the default factory because calling `int()` without arguments returns zero... we might also have used `defaultdict(lambda: 0)`; we can't just pass `0` directly because the default factory has to be a callable object (i.e. a function, method, type constructor or anything else that provides a `__call__` method) which _returns_ the default we want."
   ]
  },
  {
   "cell_type": "markdown",
   "metadata": {},
   "source": [
    "## The Puzzle\n",
    "\n",
    "Now back to our puzzle.  What can we pass to defaultdict as a default factory so that our default values will be serialized rather than constant? (i.e. 1 for the first key failed lookup, 2 for the second, etc.)  Let's come up with all possible _distinct_ solutions to this question without using a global variable (and without doing any meta-programming, i.e. just using the unaltered Python language.)\n",
    "\n",
    "So far we've discovered 5 distinct solutions to this in Python 3.  If you find any others, by all means send them to me."
   ]
  },
  {
   "cell_type": "markdown",
   "metadata": {},
   "source": [
    "## 1) Using a counter object\n",
    "\n",
    "The argument we need to pass to defaultdict has to be a callable, and we need to keep state between calls (tracking the count), so since Python is an objrect-oriented language that suggests an object (state) with a method (callable).  A simple counter object would seem to be the most obvious.  The object's class might define a `nextcount()` method, but since it does nothing else we might was well just put the counting code in the `__call__` [dunder](https://wiki.python.org/moin/DunderAlias) method, making the object itself callable."
   ]
  },
  {
   "cell_type": "code",
   "execution_count": 3,
   "metadata": {},
   "outputs": [
    {
     "name": "stdout",
     "output_type": "stream",
     "text": [
      "1 2 1 3 1\n"
     ]
    }
   ],
   "source": [
    "class CounterObj:\n",
    "    def __init__(self):\n",
    "        self.count = 0\n",
    "    def __call__(self):\n",
    "        self.count += 1\n",
    "        return self.count\n",
    "\n",
    "dd = defaultdict(CounterObj())\n",
    "print(dd['spam'], dd['eggs'], dd['spam'], dd['and'], dd['spam'])"
   ]
  },
  {
   "cell_type": "markdown",
   "metadata": {},
   "source": [
    "## 2) Subclassing 'int' to instantiate a serialized default integer\n",
    "\n",
    "The manual entry for defaultdict gives the example of `defaultdict(int)` for default elements of 0. This works because 0 is the default `int`, i.e. what the int class (the int constructor) returns when it's called without arguments.  So we should be able to create a subclass of `int` that makes a serialized default instance instead.  This turns out to be pretty easy, by extending the `__new__` dunder method and keeping track of the count in a class attribute.  A `SerialInt` is a normal integer except that its default is a serial number rathern than 0."
   ]
  },
  {
   "cell_type": "code",
   "execution_count": 4,
   "metadata": {},
   "outputs": [
    {
     "name": "stdout",
     "output_type": "stream",
     "text": [
      "1 2 1 3 1\n"
     ]
    }
   ],
   "source": [
    "class SerialInt(int):\n",
    "    count = 0\n",
    "    def __new__(self, x=None, **kwargs):\n",
    "        self.count += 1\n",
    "        return(int.__new__(self, self.count if x is None else x, **kwargs))\n",
    "\n",
    "dd = defaultdict(SerialInt)\n",
    "print(dd['spam'], dd['eggs'], dd['spam'], dd['and'], dd['spam'])"
   ]
  },
  {
   "cell_type": "markdown",
   "metadata": {},
   "source": [
    "It should be noted that unlike in solution #1 which has a separate counter object for every defaultdict, the count here is a global state, i.e. it keeps counting across multiple defaultdicts because it's a class attribute and there is only one SerialInt class object, thus making this an instance of the [singleton](https://en.wikipedia.org/wiki/Singleton_pattern) pattern."
   ]
  },
  {
   "cell_type": "markdown",
   "metadata": {},
   "source": [
    "## 3) Using an iterator or generator\n",
    "\n",
    "Although generally considered the most \"Pythonic\" way of producing a sequence, and first look iterators or generators might not seem to be a great match for this particular problem because they aren't in themselves callable.  But there are some ways around this; one is that we could \"cheat\" and pass the `__next__` dunder method of the generator as the default factory!  (This might be called \"cheating\" because dunder methods are not intended to be called or passed directly.)"
   ]
  },
  {
   "cell_type": "code",
   "execution_count": 5,
   "metadata": {
    "scrolled": true
   },
   "outputs": [
    {
     "name": "stdout",
     "output_type": "stream",
     "text": [
      "1 2 1 3 1\n"
     ]
    }
   ],
   "source": [
    "def seq_generator_func():\n",
    "    count = 1\n",
    "    while True:\n",
    "        yield count\n",
    "        count += 1\n",
    "\n",
    "dd = defaultdict(seq_generator_func().__next__)\n",
    "print(dd['spam'], dd['eggs'], dd['spam'], dd['and'], dd['spam'])"
   ]
  },
  {
   "cell_type": "markdown",
   "metadata": {},
   "source": [
    "What's more, there is a counter generator already in the standard library, so we don't even have to code it... giving us a \"one-liner\" solution to our puzzle if you don't count the import statement."
   ]
  },
  {
   "cell_type": "code",
   "execution_count": 6,
   "metadata": {},
   "outputs": [
    {
     "name": "stdout",
     "output_type": "stream",
     "text": [
      "1 2 1 3 1\n"
     ]
    }
   ],
   "source": [
    "from itertools import count\n",
    "\n",
    "dd = defaultdict(count(1).__next__)\n",
    "print(dd['spam'], dd['eggs'], dd['spam'], dd['and'], dd['spam'])"
   ]
  },
  {
   "cell_type": "markdown",
   "metadata": {},
   "source": [
    "In both of these cases we're calling a generator funtion to instantiate a generator object, and then passing the `__next__` method of that generator instance object to the defaultdict.  When you pass a bound method (as opposed to an unbound method which in Python can be referred to by `Classname.method`) the object it is bound to goes along for the ride, just like when the method is invoked, so this instantiated count generator becomes our default factory.  In essence in Python a bound method is a \"closure\" over its object... which is a nice segue to our next solution.\n",
    "\n",
    "But first, there is another way we can get a callable to use with a generator that avoids having to reference the `__next__` method; the functools standard library provides the function `partial()`, which takes a function and some arguments and returns a new function that is [partially applied](https://en.wikipedia.org/wiki/Partial_application) to those arguments.  With help from this we can use the perhaps more appropriate `next()` function..."
   ]
  },
  {
   "cell_type": "code",
   "execution_count": 7,
   "metadata": {},
   "outputs": [
    {
     "name": "stdout",
     "output_type": "stream",
     "text": [
      "1 2 1 3 1\n"
     ]
    }
   ],
   "source": [
    "from functools import partial\n",
    "\n",
    "dd = defaultdict(partial(next, count(1)))\n",
    "print(dd['spam'], dd['eggs'], dd['spam'], dd['and'], dd['spam'])"
   ]
  },
  {
   "cell_type": "markdown",
   "metadata": {},
   "source": [
    "This one-liner solution to the puzzle was posted by Reddit user [u/preoccupied_siege](https://www.reddit.com/user/preoccupied_siege)."
   ]
  },
  {
   "cell_type": "markdown",
   "metadata": {},
   "source": [
    "## 4) Using a lexical closure\n",
    "\n",
    "Lexical closures are a way for a function object to maintain state long-term that's heavily used in Scheme and some other Lisp-y or functional languages, not so much in Python where objects are usually preferred.  But at least in Python 3 it is possible to solve this puzzle with a lexical closoure, although there are some gotchas... specifically, we need to use a [`nonlocal`](https://docs.python.org/3/reference/simple_stmts.html#grammar-token-nonlocal-stmt) declaration for the count variable.  Also, in Scheme the inner function would usually be a lambda since it really doesn't need a name, but in Python lambdas are deliberately limited to avoid them having side effects (like updating `count`).  I dug a bit into the reasons for this limitation, and without going into all the details, what it comes down to is that Guido van Rossum wants to encourage a very explicit style in Python and thinks that in all but the most trivial cases a named function is  always preferrable to a lambda.  In fact, at one point he intended to [remove lambda from the language altogether](https://www.artima.com/weblogs/viewpost.jsp?thread=98196). Upon reflection I think that the limited lambdas are fine for Python; if I want to code in a functional style I'll use a fully functional language.  And anyone who really wants code Python in a fully functional style can try [Coconut](coconut-lang.org)!  But it's good to know that we do have the functionality of lexical closures available in plain Python and of course Python functions are still first class objects, even if they do have to have a name."
   ]
  },
  {
   "cell_type": "code",
   "execution_count": 8,
   "metadata": {
    "scrolled": true
   },
   "outputs": [
    {
     "name": "stdout",
     "output_type": "stream",
     "text": [
      "1 2 1 3 1\n"
     ]
    }
   ],
   "source": [
    "def make_counter():\n",
    "    count = 0\n",
    "    def counter():\n",
    "        nonlocal count\n",
    "        count += 1\n",
    "        return count\n",
    "    return counter\n",
    "\n",
    "dd = defaultdict(make_counter())\n",
    "print(dd['spam'], dd['eggs'], dd['spam'], dd['and'], dd['spam'])"
   ]
  },
  {
   "cell_type": "markdown",
   "metadata": {},
   "source": [
    "Here, when we call `make_counter()` it returns a reference to the inner `counter` function packaged together with the `count` variable from `make_counter`'s scope... we say that the function reference \"is closed over\" the count variable, which has now gone out of its original scope because `make_counter` is done, but continues to exist because it's referenced in `counter`'s `__closure__` function attribute.  Since we're going to modify this variable we have to use `nonlocal` to avoid creating a new local binding instead forcing a closure, but otherwise this works the same as a lexical closure would in most other languages that have them.\n",
    "\n",
    "However, [this isn't always the case](http://ashtonkemerling.com/blog/2013/04/30/binding-vs-assignment/)... because of Python's different scoping rules in some cases trying to create a lexical closure produces results programmers used to other languages might find surprising."
   ]
  },
  {
   "cell_type": "markdown",
   "metadata": {},
   "source": [
    "## 5) Using a mutable default argument to maintain state\n",
    "\n",
    "Novice Python programmers often trip over this (see i.e. this [page about Python gotchas](https://docs.python-guide.org/writing/gotchas)) but another way for a function to maintain state between invocations in Python is via a mutable default argument.  This is a consequence of the fact that in Python arguments are always passed by reference combined with the fact that Python evaluates default arguments at function definition time.  So if a default argument is a mutable object, for example a list, as in `def f(l=[])`, then it will be created only once and any changes made to it will persist between calls (as opposed to, in this case, `l` being re-initialized to an empty list on each call, which is what the programmer might have intended).  This is correct behavior for Python, but can be surprising when you first encounter it."
   ]
  },
  {
   "cell_type": "code",
   "execution_count": 9,
   "metadata": {},
   "outputs": [
    {
     "name": "stdout",
     "output_type": "stream",
     "text": [
      "1 2 1 3 1\n"
     ]
    }
   ],
   "source": [
    "def counter(count=[0]):\n",
    "    count[0] += 1\n",
    "    return count[0]\n",
    "\n",
    "dd = defaultdict(counter)\n",
    "print(dd['spam'], dd['eggs'], dd['spam'], dd['and'], dd['spam'])"
   ]
  },
  {
   "cell_type": "markdown",
   "metadata": {},
   "source": [
    "Here the state of our counter is encapsulated in a list element to bind the `count` variable to a mutable object (list) rather than it being rebound every time we update it as a immutable argument (like an Integer) would be.  As in solution #2, and unlike the other 3 solutions, this is a singleton, i.e. there will be only one counter for any number of defaultdicts.  Although it may seem like we're abusing some unintended behavior, in some cases this may actually be more readable and/or predictable than a real lexical closure, and therefor might be preferred.  Like a lexical closure a mutable default argument provides a strong form of encapsulation (by Python standards)... if the mutable object is created as part of the function's definition, then only that function can change it.  A caller can temporarily _override_ it, but they can't _overwrite_ it!  Well, at least not without digging around in function attributes... but then we'd be going down the rabbit hole of meta-programming, where anything is possible."
   ]
  },
  {
   "cell_type": "code",
   "execution_count": 10,
   "metadata": {},
   "outputs": [
    {
     "name": "stdout",
     "output_type": "stream",
     "text": [
      "['spam']\n",
      "['spam', 'spam']\n",
      "['eggs']\n",
      "['spam', 'spam', 'spam']\n"
     ]
    }
   ],
   "source": [
    "def pile_it_on(item, pile=[]):\n",
    "    pile.append(item)\n",
    "    return pile\n",
    "\n",
    "print(pile_it_on(\"spam\"))\n",
    "print(pile_it_on(\"spam\"))\n",
    "print(pile_it_on(\"eggs\", []))  # I'd like just eggs, hold the spam...\n",
    "print(pile_it_on(\"spam\"))      # surprise: no more eggs, just more spam!\n"
   ]
  },
  {
   "cell_type": "markdown",
   "metadata": {},
   "source": [
    "In Python, mutable default arguments would appear to be a useful [spandrel](https://en.wikipedia.org/wiki/Spandrel_%28biology%29), providing a level of encapsulation similar to lexical closures while being potentially more predictable because the scope of the variable is explicitly tied to the function it's an argument of.\n",
    "\n",
    "Before concluding; some Reddit users found ways of turning this solution into one-liners; this involves sidestepping the aforementioned limitations of lambda, which, like nearly everything in Python, is possible if you really insist..."
   ]
  },
  {
   "cell_type": "code",
   "execution_count": 12,
   "metadata": {},
   "outputs": [
    {
     "name": "stdout",
     "output_type": "stream",
     "text": [
      "1 2 1 3 1\n",
      "1 2 1 3 1\n"
     ]
    }
   ],
   "source": [
    "# posted by u/FAVORED_PET\n",
    "dd = defaultdict(lambda c=enumerate(iter(int, 1), 1): next(c)[0])\n",
    "print(dd['spam'], dd['eggs'], dd['spam'], dd['and'], dd['spam'])\n",
    "\n",
    "# posted by u/yawpitch\n",
    "dd = defaultdict(lambda c=[0]: c.append(c.pop() + 1) or c[0])\n",
    "print(dd['spam'], dd['eggs'], dd['spam'], dd['and'], dd['spam'])\n"
   ]
  },
  {
   "cell_type": "markdown",
   "metadata": {},
   "source": [
    "# Conclusion\n",
    "\n",
    "If we make an effort to understand everything thoroughly, then even solving a simple little puzzle like this one can turn into a deep exploration of a programming language.  Here we've used callable objects and class objects, beat a square  generator into a round hole, and explored some more esoteric ways to encapsule persistent state.   Implementing a simple lexical closure in Python requires thoroughly understanding Pythonic scope, and the mutable default argument spandrel demonstrates how we can do closure-like things in Python without needing traditional lexical closures.\n",
    "\n",
    "If you think of any more ways to solve this puzzle or find anything I've said here to be incorrect, or have any other comments, please email jurgen at botz.org."
   ]
  }
 ],
 "metadata": {
  "kernelspec": {
   "display_name": "Python 3",
   "language": "python",
   "name": "python3"
  },
  "language_info": {
   "codemirror_mode": {
    "name": "ipython",
    "version": 3
   },
   "file_extension": ".py",
   "mimetype": "text/x-python",
   "name": "python",
   "nbconvert_exporter": "python",
   "pygments_lexer": "ipython3",
   "version": "3.6.6"
  }
 },
 "nbformat": 4,
 "nbformat_minor": 2
}
